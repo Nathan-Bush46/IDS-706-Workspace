{
 "cells": [
  {
   "cell_type": "code",
   "execution_count": 11,
   "metadata": {},
   "outputs": [
    {
     "name": "stdout",
     "output_type": "stream",
     "text": [
      "Requirement already satisfied: numpy==2.1 in /workspaces/Python_test/.venv/lib/python3.12/site-packages (from -r /workspaces/Python_test/requirements.txt (line 1)) (2.1.0)\n",
      "Requirement already satisfied: pandas==2.2.2 in /workspaces/Python_test/.venv/lib/python3.12/site-packages (from -r /workspaces/Python_test/requirements.txt (line 2)) (2.2.2)\n",
      "Requirement already satisfied: python-dateutil>=2.8.2 in /workspaces/Python_test/.venv/lib/python3.12/site-packages (from pandas==2.2.2->-r /workspaces/Python_test/requirements.txt (line 2)) (2.9.0.post0)\n",
      "Requirement already satisfied: pytz>=2020.1 in /workspaces/Python_test/.venv/lib/python3.12/site-packages (from pandas==2.2.2->-r /workspaces/Python_test/requirements.txt (line 2)) (2024.1)\n",
      "Requirement already satisfied: tzdata>=2022.7 in /workspaces/Python_test/.venv/lib/python3.12/site-packages (from pandas==2.2.2->-r /workspaces/Python_test/requirements.txt (line 2)) (2024.1)\n",
      "Requirement already satisfied: six>=1.5 in /workspaces/Python_test/.venv/lib/python3.12/site-packages (from python-dateutil>=2.8.2->pandas==2.2.2->-r /workspaces/Python_test/requirements.txt (line 2)) (1.16.0)\n"
     ]
    }
   ],
   "source": [
    "!pip install -r /workspaces/Python_test/requirements.txt"
   ]
  },
  {
   "cell_type": "code",
   "execution_count": 10,
   "metadata": {},
   "outputs": [
    {
     "name": "stdout",
     "output_type": "stream",
     "text": [
      "s\n",
      "s\n",
      "s\n",
      "s\n",
      "s\n",
      "2.0\n"
     ]
    }
   ],
   "source": [
    "import numpy as np\n",
    "for i in range(0,5):\n",
    "    print(\"s\")\n",
    "\n",
    "print(np.sqrt(4))"
   ]
  }
 ],
 "metadata": {
  "kernelspec": {
   "display_name": ".venv",
   "language": "python",
   "name": "python3"
  },
  "language_info": {
   "codemirror_mode": {
    "name": "ipython",
    "version": 3
   },
   "file_extension": ".py",
   "mimetype": "text/x-python",
   "name": "python",
   "nbconvert_exporter": "python",
   "pygments_lexer": "ipython3",
   "version": "3.12.5"
  }
 },
 "nbformat": 4,
 "nbformat_minor": 2
}
